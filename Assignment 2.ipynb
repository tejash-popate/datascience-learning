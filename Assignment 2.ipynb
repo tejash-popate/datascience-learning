{
 "cells": [
  {
   "cell_type": "raw",
   "id": "norwegian-edwards",
   "metadata": {},
   "source": [
    "\n",
    "*\n",
    "* *\n",
    "* * *\n",
    "* * * *\n",
    "* * * * *\n",
    "* * * *\n",
    "* * *\n",
    "* *\n",
    "*"
   ]
  },
  {
   "cell_type": "markdown",
   "id": "laden-segment",
   "metadata": {},
   "source": [
    "### 1. Create the above pattern using nested for loop in Python."
   ]
  },
  {
   "cell_type": "code",
   "execution_count": 63,
   "id": "simplified-infection",
   "metadata": {},
   "outputs": [],
   "source": [
    "def getPatternS1(N):\n",
    "    \"\"\"using while loop\n",
    "        input -> N : max count of stars in the middle row.\n",
    "    \"\"\"\n",
    "    j=0\n",
    "    while(j<=N):\n",
    "        print(\" \".join([char for char in \"*\"*j]))\n",
    "        j+=1\n",
    "    while(N!=0):\n",
    "        print(\" \".join([char for char in \"*\"*(N-1)]))\n",
    "        N-=1\n",
    " "
   ]
  },
  {
   "cell_type": "code",
   "execution_count": 95,
   "id": "split-lottery",
   "metadata": {},
   "outputs": [
    {
     "name": "stdout",
     "output_type": "stream",
     "text": [
      "\n",
      "*\n",
      "* *\n",
      "* * *\n",
      "* * * *\n",
      "* * * * *\n",
      "* * * *\n",
      "* * *\n",
      "* *\n",
      "*\n",
      "\n"
     ]
    }
   ],
   "source": [
    "getPatternS1(5)"
   ]
  },
  {
   "cell_type": "code",
   "execution_count": 84,
   "id": "opposed-tours",
   "metadata": {},
   "outputs": [],
   "source": [
    "def getPatternS2(N):\n",
    "    \"\"\"using for loop\n",
    "        input -> N : max count of stars in the middle row.\n",
    "    \"\"\"\n",
    "    for i in range(N+1):\n",
    "        if i!=N:\n",
    "            print(\" \".join([char for char in \"*\"*i]))\n",
    "        else:\n",
    "            for j in range(N+1)[::-1]:\n",
    "                 print(\" \".join([char for char in \"*\"*j]))        "
   ]
  },
  {
   "cell_type": "code",
   "execution_count": 85,
   "id": "prescribed-marriage",
   "metadata": {},
   "outputs": [
    {
     "name": "stdout",
     "output_type": "stream",
     "text": [
      "\n",
      "*\n",
      "* *\n",
      "* * *\n",
      "* * * *\n",
      "* * * * *\n",
      "* * * *\n",
      "* * *\n",
      "* *\n",
      "*\n",
      "\n"
     ]
    }
   ],
   "source": [
    "getPatternS2(5)"
   ]
  },
  {
   "cell_type": "code",
   "execution_count": 93,
   "id": "persistent-cancellation",
   "metadata": {},
   "outputs": [],
   "source": [
    "def getPatternS3(rows):\n",
    "    for i in range(0, rows):   \n",
    "        for j in range(0, i + 1):  \n",
    "            print(\"*\", end=' ')  \n",
    "        print(\" \")  \n",
    "    # For second pattern  \n",
    "    for i in range(rows, 0, -1):  \n",
    "        for j in range(0, i - 1):  \n",
    "            print(\"*\", end=' ')  \n",
    "        print(\" \") "
   ]
  },
  {
   "cell_type": "code",
   "execution_count": 94,
   "id": "posted-resolution",
   "metadata": {},
   "outputs": [
    {
     "name": "stdout",
     "output_type": "stream",
     "text": [
      "*  \n",
      "* *  \n",
      "* * *  \n",
      "* * * *  \n",
      "* * * * *  \n",
      "* * * *  \n",
      "* * *  \n",
      "* *  \n",
      "*  \n",
      " \n"
     ]
    }
   ],
   "source": [
    "getPatternS3(5)"
   ]
  },
  {
   "cell_type": "markdown",
   "id": "burning-heading",
   "metadata": {},
   "source": [
    "### 2. Write a Python program to reverse a word after accepting the input from the user.\n",
    "\n"
   ]
  },
  {
   "cell_type": "code",
   "execution_count": 12,
   "id": "complicated-remainder",
   "metadata": {},
   "outputs": [
    {
     "name": "stdout",
     "output_type": "stream",
     "text": [
      "worrapS skcaJ\n",
      "setaH\n",
      "sbarC\n"
     ]
    }
   ],
   "source": [
    "def reverseString(mystr):\n",
    "    return mystr[::-1]\n",
    "\n",
    "print(reverseString(\"Jacks Sparrow\"))  \n",
    "print(reverseString(\"Hates\"))\n",
    "print(reverseString(\"Crabs\"))\n",
    "    "
   ]
  },
  {
   "cell_type": "code",
   "execution_count": null,
   "id": "thrown-singer",
   "metadata": {},
   "outputs": [],
   "source": []
  }
 ],
 "metadata": {
  "kernelspec": {
   "display_name": "Python 3",
   "language": "python",
   "name": "python3"
  },
  "language_info": {
   "codemirror_mode": {
    "name": "ipython",
    "version": 3
   },
   "file_extension": ".py",
   "mimetype": "text/x-python",
   "name": "python",
   "nbconvert_exporter": "python",
   "pygments_lexer": "ipython3",
   "version": "3.7.6"
  }
 },
 "nbformat": 4,
 "nbformat_minor": 5
}
