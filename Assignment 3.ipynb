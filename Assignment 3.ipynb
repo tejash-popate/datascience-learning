{
 "cells": [
  {
   "cell_type": "markdown",
   "id": "arbitrary-surprise",
   "metadata": {},
   "source": [
    "\n",
    "\n",
    "#### 1.1 Write a Python Program to implement your own myreduce() function which works exactly like Python's built-in function reduce()"
   ]
  },
  {
   "cell_type": "code",
   "execution_count": 16,
   "id": "broad-reynolds",
   "metadata": {},
   "outputs": [],
   "source": [
    "def myReduce(funct_, sequence_):\n",
    "    result = sequence_[0]\n",
    "    for i in sequence_:\n",
    "        result= funct_(result,i)\n",
    "    return result"
   ]
  },
  {
   "cell_type": "code",
   "execution_count": 17,
   "id": "latin-homeless",
   "metadata": {},
   "outputs": [
    {
     "data": {
      "text/plain": [
       "'sdfssdfssdfsfsdfsdf'"
      ]
     },
     "execution_count": 17,
     "metadata": {},
     "output_type": "execute_result"
    }
   ],
   "source": [
    "lst =['sdfs','sdfsfsdf','sdf']\n",
    "myReduce (lambda a,b: a+b,lst)"
   ]
  },
  {
   "cell_type": "code",
   "execution_count": 7,
   "id": "golden-fence",
   "metadata": {},
   "outputs": [],
   "source": [
    "# def myReduce(funct_, sequence_):\n",
    "#     result = list(map(funct_, sequence_))    \n",
    "#     return result\n",
    "\n",
    "# myFunct = lambda x:x*x\n",
    "\n",
    "# myReduce(myFunct, [47,11,42,13])"
   ]
  },
  {
   "cell_type": "markdown",
   "id": "geological-trouble",
   "metadata": {},
   "source": [
    "####  1.2 Write a Python program to implement your own myfilter() function which works exactly like Python's built-in function filter()"
   ]
  },
  {
   "cell_type": "code",
   "execution_count": 23,
   "id": "subjective-might",
   "metadata": {},
   "outputs": [],
   "source": [
    "# list(filter(lambda x: x%2!=0, [1,3,4,56,67,76]))"
   ]
  },
  {
   "cell_type": "code",
   "execution_count": 30,
   "id": "gorgeous-myrtle",
   "metadata": {},
   "outputs": [],
   "source": [
    "def myFilter(funct_, sequence_):\n",
    "    temp=[]\n",
    "    for i in sequence_:\n",
    "        if funct_(i):\n",
    "            temp.append(i) \n",
    "    return temp\n"
   ]
  },
  {
   "cell_type": "code",
   "execution_count": 31,
   "id": "straight-monitor",
   "metadata": {},
   "outputs": [
    {
     "data": {
      "text/plain": [
       "[1, 3, 67]"
      ]
     },
     "execution_count": 31,
     "metadata": {},
     "output_type": "execute_result"
    }
   ],
   "source": [
    "myFilter(lambda x: x%2!=0, [1,3,4,56,67,76])"
   ]
  },
  {
   "cell_type": "markdown",
   "id": "circular-singles",
   "metadata": {},
   "source": [
    "### 2. 2. Implement List comprehensions to produce the following lists.\n"
   ]
  },
  {
   "cell_type": "raw",
   "id": "certain-leave",
   "metadata": {},
   "source": [
    "Write List comprehensions to produce the following Lists\n",
    "['x', 'xx', 'xxx', 'xxxx', 'y', 'yy', 'yyy', 'yyyy', 'z', 'zz', 'zzz', 'zzzz']\n",
    "\n",
    "['x', 'y', 'z', 'xx', 'yy', 'zz', 'xxx', 'yyy', 'zzz', 'xxxx', 'yyyy', 'zzzz']\n",
    "\n",
    "[[2], [3], [4], [3], [4], [5], [4], [5], [6]] \n",
    "\n",
    "[[2, 3, 4, 5], [3, 4, 5, 6],\n",
    "[4, 5, 6, 7], [5, 6, 7, 8]]\n",
    "\n",
    "[(1, 1), (2, 1), (3, 1), (1, 2), (2, 2), (3, 2), (1, 3), (2, 3), (3, 3)]\n",
    "\n"
   ]
  },
  {
   "cell_type": "code",
   "execution_count": 26,
   "id": "immune-machinery",
   "metadata": {},
   "outputs": [
    {
     "data": {
      "text/plain": [
       "['x', 'xx', 'xxx', 'xxxx', 'y', 'yy', 'yyy', 'yyyy', 'z', 'zz', 'zzz', 'zzzz']"
      ]
     },
     "execution_count": 26,
     "metadata": {},
     "output_type": "execute_result"
    }
   ],
   "source": [
    "result1 = []\n",
    "## required list comprehension\n",
    "[result1.extend([char*i for i in range(1,5)]) for char in 'xyz']\n",
    "result1\n"
   ]
  },
  {
   "cell_type": "code",
   "execution_count": 25,
   "id": "integrated-jacob",
   "metadata": {},
   "outputs": [
    {
     "data": {
      "text/plain": [
       "['x', 'xx', 'xxx', 'xxxx', 'y', 'yy', 'yyy', 'yyyy', 'z', 'zz', 'zzz', 'zzzz']"
      ]
     },
     "execution_count": 25,
     "metadata": {},
     "output_type": "execute_result"
    }
   ],
   "source": [
    "## OR  ## required list comprehension (alternate answer to above que)\n",
    "[char*i for i in 'xyz' for char in range(1,5) ]"
   ]
  },
  {
   "cell_type": "code",
   "execution_count": 27,
   "id": "vital-tackle",
   "metadata": {},
   "outputs": [
    {
     "data": {
      "text/plain": [
       "['x', 'y', 'z', 'xx', 'yy', 'zz', 'xxx', 'yyy', 'zzz', 'xxxx', 'yyyy', 'zzzz']"
      ]
     },
     "execution_count": 27,
     "metadata": {},
     "output_type": "execute_result"
    }
   ],
   "source": [
    "## required list comprehension\n",
    "[char*i for i in range(1,5) for char in 'xyz']"
   ]
  },
  {
   "cell_type": "code",
   "execution_count": 32,
   "id": "commercial-circulation",
   "metadata": {},
   "outputs": [
    {
     "data": {
      "text/plain": [
       "[[2], [3], [4], [3], [4], [5], [4], [5], [6]]"
      ]
     },
     "execution_count": 32,
     "metadata": {},
     "output_type": "execute_result"
    }
   ],
   "source": [
    "## required list comprehension\n",
    "[[i+j] for i in range(1,4) for j in range(1,4)]"
   ]
  },
  {
   "cell_type": "code",
   "execution_count": 34,
   "id": "experimental-retailer",
   "metadata": {},
   "outputs": [
    {
     "data": {
      "text/plain": [
       "[[2, 3, 4, 5], [3, 4, 5, 6], [4, 5, 6, 7], [5, 6, 7, 8]]"
      ]
     },
     "execution_count": 34,
     "metadata": {},
     "output_type": "execute_result"
    }
   ],
   "source": [
    "\n",
    "## required list comprehension\n",
    "[[i+j for i in range(1,5)] for j in range(1,5)]"
   ]
  },
  {
   "cell_type": "code",
   "execution_count": 36,
   "id": "alternate-diversity",
   "metadata": {},
   "outputs": [
    {
     "data": {
      "text/plain": [
       "[(1, 1), (2, 1), (3, 1), (1, 2), (2, 2), (3, 2), (1, 3), (2, 3), (3, 3)]"
      ]
     },
     "execution_count": 36,
     "metadata": {},
     "output_type": "execute_result"
    }
   ],
   "source": [
    "## required list comprehension\n",
    "[(j,i) for i in range(1,4) for j in range(1,4)]"
   ]
  },
  {
   "cell_type": "code",
   "execution_count": 38,
   "id": "manufactured-operations",
   "metadata": {},
   "outputs": [],
   "source": [
    "# dir(result1)"
   ]
  },
  {
   "cell_type": "code",
   "execution_count": null,
   "id": "timely-rates",
   "metadata": {},
   "outputs": [],
   "source": []
  }
 ],
 "metadata": {
  "kernelspec": {
   "display_name": "Python 3",
   "language": "python",
   "name": "python3"
  },
  "language_info": {
   "codemirror_mode": {
    "name": "ipython",
    "version": 3
   },
   "file_extension": ".py",
   "mimetype": "text/x-python",
   "name": "python",
   "nbconvert_exporter": "python",
   "pygments_lexer": "ipython3",
   "version": "3.7.6"
  }
 },
 "nbformat": 4,
 "nbformat_minor": 5
}
