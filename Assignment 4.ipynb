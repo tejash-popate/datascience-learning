{
 "cells": [
  {
   "cell_type": "markdown",
   "id": "realistic-edmonton",
   "metadata": {},
   "source": [
    "#### 1.1 Write a Python Program(with class concepts) to find the area of the triangle using the below formula."
   ]
  },
  {
   "cell_type": "raw",
   "id": "racial-length",
   "metadata": {},
   "source": [
    "area = (s*(s-a)*(s-b)*(s-c)) ** 0.5\n",
    "Function to take the length of the sides of triangle from user should be defined in the parent\n",
    "class and function to calculate the area should be defined in subclass."
   ]
  },
  {
   "cell_type": "code",
   "execution_count": 1,
   "id": "sporting-plaza",
   "metadata": {},
   "outputs": [],
   "source": [
    "class areaTriangle:\n",
    "    def __init__(self, sideA, sideB, sideC):\n",
    "        self.a = sideA\n",
    "        self.b = sideB\n",
    "        self.c = sideC\n",
    "    def getSemiperimeter(self):\n",
    "        s=(self.a+ self.b + self.c)/2\n",
    "        return s\n",
    "    \n",
    "    def calculateArea(self):\n",
    "        s = self.getSemiperimeter()\n",
    "        area = s* (s - self.a)* (s - self.b)* (s - self.c) ** 0.5\n",
    "        return area"
   ]
  },
  {
   "cell_type": "code",
   "execution_count": 2,
   "id": "difficult-terminal",
   "metadata": {},
   "outputs": [],
   "source": [
    "a1 = areaTriangle(4, 5, 6)"
   ]
  },
  {
   "cell_type": "code",
   "execution_count": 3,
   "id": "seven-herald",
   "metadata": {},
   "outputs": [
    {
     "data": {
      "text/plain": [
       "80.37388218507303"
      ]
     },
     "execution_count": 3,
     "metadata": {},
     "output_type": "execute_result"
    }
   ],
   "source": [
    "a1.calculateArea()"
   ]
  },
  {
   "cell_type": "markdown",
   "id": "resistant-period",
   "metadata": {},
   "source": [
    "#### 1.2 Write a function filter_long_words() that takes a list of words and an integer n and returns the list of words that are longer than n."
   ]
  },
  {
   "cell_type": "code",
   "execution_count": 4,
   "id": "blond-tattoo",
   "metadata": {},
   "outputs": [
    {
     "data": {
      "text/plain": [
       "['sdhfjkd', 'daddfad']"
      ]
     },
     "execution_count": 4,
     "metadata": {},
     "output_type": "execute_result"
    }
   ],
   "source": [
    "def filter_long_words(myList, length):\n",
    "    result = [word for word in myList if len(word) > length]\n",
    "    return result\n",
    "\n",
    "filter_long_words(['djfdf','sdakfh','sdhfjkd','daddfad'],6)    "
   ]
  },
  {
   "cell_type": "markdown",
   "id": "simple-leather",
   "metadata": {},
   "source": [
    "#### 2.1 Write a Python program using function concept that maps list of words into a list of integers representing the lengths of the corresponding words.\n",
    "Hint: If a list [ ab,cde,erty] is passed on to the python function output should come as [2,3,4]\n",
    "Here 2,3 and 4 are the lengths of the words in the list."
   ]
  },
  {
   "cell_type": "code",
   "execution_count": 5,
   "id": "proud-strain",
   "metadata": {},
   "outputs": [
    {
     "data": {
      "text/plain": [
       "[2, 3, 4]"
      ]
     },
     "execution_count": 5,
     "metadata": {},
     "output_type": "execute_result"
    }
   ],
   "source": [
    "def convert(myList):\n",
    "    return list(map(lambda x:len(x), myList))\n",
    "\n",
    "convert(['ab','cde','erty'])"
   ]
  },
  {
   "cell_type": "markdown",
   "id": "excellent-mining",
   "metadata": {},
   "source": [
    "#### 2.2 Write a Python function which takes a character (i.e. a string of length 1) and returns True if it is a vowel, False otherwise."
   ]
  },
  {
   "cell_type": "code",
   "execution_count": 6,
   "id": "upper-nigeria",
   "metadata": {},
   "outputs": [],
   "source": [
    "def checkVowel(myChar):\n",
    "    if len(myChar)==1:\n",
    "        return True if myChar in ['a','e','i','o','u'] else False\n",
    "    else:\n",
    "        return \"not a character\""
   ]
  },
  {
   "cell_type": "code",
   "execution_count": 7,
   "id": "downtown-mercy",
   "metadata": {},
   "outputs": [
    {
     "name": "stdout",
     "output_type": "stream",
     "text": [
      "True\n",
      "not a character\n"
     ]
    }
   ],
   "source": [
    "print(checkVowel('i'))\n",
    "print(checkVowel('aa'))"
   ]
  },
  {
   "cell_type": "code",
   "execution_count": null,
   "id": "intense-sherman",
   "metadata": {},
   "outputs": [],
   "source": []
  }
 ],
 "metadata": {
  "kernelspec": {
   "display_name": "Python 3",
   "language": "python",
   "name": "python3"
  },
  "language_info": {
   "codemirror_mode": {
    "name": "ipython",
    "version": 3
   },
   "file_extension": ".py",
   "mimetype": "text/x-python",
   "name": "python",
   "nbconvert_exporter": "python",
   "pygments_lexer": "ipython3",
   "version": "3.7.6"
  }
 },
 "nbformat": 4,
 "nbformat_minor": 5
}
